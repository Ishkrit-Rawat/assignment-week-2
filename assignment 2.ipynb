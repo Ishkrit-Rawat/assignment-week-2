{
 "cells": [
  {
   "cell_type": "markdown",
   "id": "349af058-ea50-4ea0-a585-8c5b4d76290f",
   "metadata": {},
   "source": [
    "Q1. How do you comment code in Python? What are the different types of comments?"
   ]
  },
  {
   "cell_type": "code",
   "execution_count": 14,
   "id": "b9125848-4661-49f6-a85e-389ca6ad926a",
   "metadata": {},
   "outputs": [],
   "source": [
    "l = [1,3,23,62,'ishkrit',99,'kumar',22,31,'rawat',45.555]\n",
    "#i am doing a list they contain int,str,float. i am separate int and float in l1 and str in l2."
   ]
  },
  {
   "cell_type": "code",
   "execution_count": 18,
   "id": "5dbb6ccf-3b64-4124-81c7-2f95c40c43c3",
   "metadata": {},
   "outputs": [],
   "source": [
    "\"\"\"this is using for separate int and float in l1\n",
    "and l2 are storge all str.\"\"\"\n",
    "\n",
    "l1 = [] \n",
    "l2 = []\n",
    "for i in l:\n",
    "    if type (i)== int or type(i)==float:\n",
    "        l1.append(i)\n",
    "    else :\n",
    "        l2.append(i)"
   ]
  },
  {
   "cell_type": "code",
   "execution_count": 19,
   "id": "368b2a3e-9c5e-48da-9c8c-b9dc8b4e02de",
   "metadata": {},
   "outputs": [
    {
     "data": {
      "text/plain": [
       "[1, 3, 23, 62, 99, 22, 31, 45.555]"
      ]
     },
     "execution_count": 19,
     "metadata": {},
     "output_type": "execute_result"
    }
   ],
   "source": [
    "l1"
   ]
  },
  {
   "cell_type": "code",
   "execution_count": 20,
   "id": "3827dde7-9b1f-4e34-8ee3-537c32a57905",
   "metadata": {},
   "outputs": [
    {
     "data": {
      "text/plain": [
       "['ishkrit', 'kumar', 'rawat']"
      ]
     },
     "execution_count": 20,
     "metadata": {},
     "output_type": "execute_result"
    }
   ],
   "source": [
    "l2"
   ]
  },
  {
   "cell_type": "markdown",
   "id": "0ddd35f3-2f19-4e97-885b-7aa93e54ba72",
   "metadata": {},
   "source": [
    "there are two type of comment \n",
    "1.single line comment = this comment denoted form #\n",
    "2.multiple line comment = this comment denotted form \"\"\" any information\"\"\""
   ]
  },
  {
   "cell_type": "markdown",
   "id": "d9d895aa-848d-4b0b-af8c-c931001ac65e",
   "metadata": {},
   "source": [
    "Q2. What are variables in Python? How do you declare and assign values to variables?"
   ]
  },
  {
   "cell_type": "code",
   "execution_count": null,
   "id": "9617d5f1-8197-4259-bea8-fc4eae567f9f",
   "metadata": {},
   "outputs": [],
   "source": [
    "every int,str,float etc. this all variables in python"
   ]
  },
  {
   "cell_type": "code",
   "execution_count": 8,
   "id": "9308ccfb-9bd8-46a2-9a1a-39a642a4e31c",
   "metadata": {},
   "outputs": [],
   "source": [
    "a = 23"
   ]
  },
  {
   "cell_type": "code",
   "execution_count": 9,
   "id": "9bcf5bd4-4cce-4153-a07a-b288b07003f6",
   "metadata": {},
   "outputs": [
    {
     "data": {
      "text/plain": [
       "23"
      ]
     },
     "execution_count": 9,
     "metadata": {},
     "output_type": "execute_result"
    }
   ],
   "source": [
    "a"
   ]
  },
  {
   "cell_type": "code",
   "execution_count": 10,
   "id": "8db8feb1-d62c-4662-92bb-bb6c77d87fa0",
   "metadata": {},
   "outputs": [],
   "source": [
    "a,b,c = 34,54,56"
   ]
  },
  {
   "cell_type": "code",
   "execution_count": 11,
   "id": "4bc7a19a-2365-40a6-9c28-1862894a5daf",
   "metadata": {},
   "outputs": [
    {
     "data": {
      "text/plain": [
       "34"
      ]
     },
     "execution_count": 11,
     "metadata": {},
     "output_type": "execute_result"
    }
   ],
   "source": [
    "a"
   ]
  },
  {
   "cell_type": "code",
   "execution_count": 12,
   "id": "4467e45c-b544-4f5b-bdbd-5123f8f8b402",
   "metadata": {},
   "outputs": [
    {
     "data": {
      "text/plain": [
       "54"
      ]
     },
     "execution_count": 12,
     "metadata": {},
     "output_type": "execute_result"
    }
   ],
   "source": [
    "b"
   ]
  },
  {
   "cell_type": "code",
   "execution_count": 13,
   "id": "a3ef25f1-76cf-4988-850c-dc5d28d9cea1",
   "metadata": {},
   "outputs": [
    {
     "data": {
      "text/plain": [
       "56"
      ]
     },
     "execution_count": 13,
     "metadata": {},
     "output_type": "execute_result"
    }
   ],
   "source": [
    "c"
   ]
  },
  {
   "cell_type": "code",
   "execution_count": null,
   "id": "af310cd9-c638-4911-881b-e84426bb7701",
   "metadata": {},
   "outputs": [],
   "source": [
    "#all are example of the declare and assign values to variables.\n"
   ]
  },
  {
   "cell_type": "markdown",
   "id": "e4d0fb6f-3796-416a-b02a-d04555d5864b",
   "metadata": {},
   "source": [
    "Q3. How do you convert one data type to another in Python?"
   ]
  },
  {
   "cell_type": "markdown",
   "id": "3f61ca83-fa23-4cb5-91e8-740b873982d4",
   "metadata": {},
   "source": [
    "there are two type of convertor in python\n",
    "1. implicit type convertor\n",
    "2. explicit type convertor"
   ]
  },
  {
   "cell_type": "code",
   "execution_count": 28,
   "id": "510fc951-603a-4704-b2d8-7f8217d9072b",
   "metadata": {},
   "outputs": [],
   "source": [
    "#implicit type convertor\n",
    "a = 34\n",
    "b = 25.45"
   ]
  },
  {
   "cell_type": "code",
   "execution_count": 29,
   "id": "3d058943-2278-4cfe-aab8-d69bc1aa8287",
   "metadata": {},
   "outputs": [],
   "source": [
    "c = a+b"
   ]
  },
  {
   "cell_type": "code",
   "execution_count": 30,
   "id": "ce68a1ef-d68f-472c-9617-a559f436ccb3",
   "metadata": {},
   "outputs": [
    {
     "data": {
      "text/plain": [
       "float"
      ]
     },
     "execution_count": 30,
     "metadata": {},
     "output_type": "execute_result"
    }
   ],
   "source": [
    "type(c)"
   ]
  },
  {
   "cell_type": "code",
   "execution_count": 50,
   "id": "4c57c7c4-3ba7-4516-b3c3-3be473261338",
   "metadata": {},
   "outputs": [],
   "source": [
    "#explicit type convertor\n",
    "d =int( '34')\n",
    "e = 25"
   ]
  },
  {
   "cell_type": "code",
   "execution_count": 51,
   "id": "0036ee63-4a9a-472f-82e6-ee5c5ce2bfe5",
   "metadata": {},
   "outputs": [],
   "source": [
    "f = d+e"
   ]
  },
  {
   "cell_type": "code",
   "execution_count": 52,
   "id": "449a05cf-1d5e-4646-a306-9e4d73c5cde6",
   "metadata": {},
   "outputs": [
    {
     "data": {
      "text/plain": [
       "int"
      ]
     },
     "execution_count": 52,
     "metadata": {},
     "output_type": "execute_result"
    }
   ],
   "source": [
    "type(f)"
   ]
  },
  {
   "cell_type": "code",
   "execution_count": null,
   "id": "62dcc639-a989-4833-be5b-38bca8bd6aba",
   "metadata": {},
   "outputs": [],
   "source": []
  },
  {
   "cell_type": "markdown",
   "id": "7e316eea-d55c-4e98-a92b-4da53c17848d",
   "metadata": {},
   "source": [
    "Q5. Given a list my_list = [1, 2, 3, 4, 5], write the code to slice the list and obtain the sub-list [2, 3]."
   ]
  },
  {
   "cell_type": "code",
   "execution_count": 22,
   "id": "ec8384ec-19f5-4816-8b6b-4795472d0cda",
   "metadata": {},
   "outputs": [
    {
     "name": "stdout",
     "output_type": "stream",
     "text": [
      "[2, 3]\n"
     ]
    }
   ],
   "source": [
    "my_list = [1, 2, 3, 4, 5]\n",
    "sub_list = my_list[1:3]\n",
    "print(sub_list)\n"
   ]
  },
  {
   "cell_type": "markdown",
   "id": "e26e79c2-a38b-4d15-b23d-f50d819e4403",
   "metadata": {},
   "source": [
    "Q6. What is a complex number in mathematics, and how is it represented in Python?"
   ]
  },
  {
   "cell_type": "code",
   "execution_count": 53,
   "id": "3336a7b0-2df7-459e-b1ba-a48a48c8e465",
   "metadata": {},
   "outputs": [],
   "source": [
    "a = 4+7j"
   ]
  },
  {
   "cell_type": "code",
   "execution_count": 54,
   "id": "601ccd90-7a2d-43e3-b51d-b0c39fc0a194",
   "metadata": {},
   "outputs": [
    {
     "data": {
      "text/plain": [
       "complex"
      ]
     },
     "execution_count": 54,
     "metadata": {},
     "output_type": "execute_result"
    }
   ],
   "source": [
    "type(a)"
   ]
  },
  {
   "cell_type": "markdown",
   "id": "807f1e11-2aff-4de0-a1ad-422e4d091bb9",
   "metadata": {},
   "source": [
    "Q7. What is the correct way to declare a variable named age and assign the value 25 to it?"
   ]
  },
  {
   "cell_type": "code",
   "execution_count": 55,
   "id": "fc8f1b2b-9d60-4166-94c5-53051eff931a",
   "metadata": {},
   "outputs": [],
   "source": [
    "age = 25"
   ]
  },
  {
   "cell_type": "markdown",
   "id": "1121c65c-b6fa-45ce-a6c6-3f9174379f92",
   "metadata": {},
   "source": [
    "Q8. Declare a variable named price and assign the value 9.99 to it. What data type does this variable\n",
    "belong to?"
   ]
  },
  {
   "cell_type": "code",
   "execution_count": 56,
   "id": "6919c0e3-beb9-4ddc-aab3-8f6dc2863a8e",
   "metadata": {},
   "outputs": [],
   "source": [
    "price = 9.99"
   ]
  },
  {
   "cell_type": "code",
   "execution_count": 57,
   "id": "8c50519a-fbc1-483a-a7f7-d7889106ec24",
   "metadata": {},
   "outputs": [
    {
     "data": {
      "text/plain": [
       "float"
      ]
     },
     "execution_count": 57,
     "metadata": {},
     "output_type": "execute_result"
    }
   ],
   "source": [
    "type(price)"
   ]
  },
  {
   "cell_type": "markdown",
   "id": "146412ed-2442-410f-aeae-f0c2aad0fbec",
   "metadata": {},
   "source": [
    "Q9. Create a variable named name and assign your full name to it as a string. How would you print the\n",
    "value of this variable?"
   ]
  },
  {
   "cell_type": "code",
   "execution_count": 58,
   "id": "171e11c2-577d-473f-97d4-692fb1354247",
   "metadata": {},
   "outputs": [],
   "source": [
    "name = \"ishkrit kumar\""
   ]
  },
  {
   "cell_type": "code",
   "execution_count": 59,
   "id": "25e7b165-f282-4b05-9bed-21f9a470dbd9",
   "metadata": {},
   "outputs": [
    {
     "data": {
      "text/plain": [
       "'ishkrit kumar'"
      ]
     },
     "execution_count": 59,
     "metadata": {},
     "output_type": "execute_result"
    }
   ],
   "source": [
    "name"
   ]
  },
  {
   "cell_type": "code",
   "execution_count": 60,
   "id": "0219bb46-bcd1-4c46-9fcd-958eeb48d7b3",
   "metadata": {},
   "outputs": [
    {
     "data": {
      "text/plain": [
       "str"
      ]
     },
     "execution_count": 60,
     "metadata": {},
     "output_type": "execute_result"
    }
   ],
   "source": [
    "type(name)"
   ]
  },
  {
   "cell_type": "markdown",
   "id": "7514192e-b87c-49b8-8cc2-f2689ac73985",
   "metadata": {},
   "source": [
    "Q10. Given the string \"Hello, World!\", extract the substring \"World\"."
   ]
  },
  {
   "cell_type": "code",
   "execution_count": 69,
   "id": "8db45966-5c96-4a71-b770-4873634a7e50",
   "metadata": {},
   "outputs": [
    {
     "name": "stdout",
     "output_type": "stream",
     "text": [
      " World\n"
     ]
    }
   ],
   "source": [
    "str = \"Hello, World\"\n",
    "\n",
    "substr = str[6:12]\n",
    "\n",
    "print(substr)\n"
   ]
  },
  {
   "cell_type": "markdown",
   "id": "ccf57a5b-8052-46a9-b5d6-250b344ae051",
   "metadata": {},
   "source": [
    "Q11. Create a variable named \"is_student\" and assign it a boolean value indicating whether you are\n",
    "currently a student or not."
   ]
  },
  {
   "cell_type": "code",
   "execution_count": 70,
   "id": "9444e72b-11c7-409c-916b-dd73045d5d32",
   "metadata": {},
   "outputs": [],
   "source": [
    "is_student = True\n"
   ]
  },
  {
   "cell_type": "code",
   "execution_count": 71,
   "id": "b4149774-256c-4616-bf53-08a9dd13f982",
   "metadata": {},
   "outputs": [
    {
     "data": {
      "text/plain": [
       "bool"
      ]
     },
     "execution_count": 71,
     "metadata": {},
     "output_type": "execute_result"
    }
   ],
   "source": [
    "type(is_student)"
   ]
  },
  {
   "cell_type": "code",
   "execution_count": null,
   "id": "aa9ce532-5bf8-45b6-83d3-2e213f74f058",
   "metadata": {},
   "outputs": [],
   "source": []
  }
 ],
 "metadata": {
  "kernelspec": {
   "display_name": "Python 3 (ipykernel)",
   "language": "python",
   "name": "python3"
  },
  "language_info": {
   "codemirror_mode": {
    "name": "ipython",
    "version": 3
   },
   "file_extension": ".py",
   "mimetype": "text/x-python",
   "name": "python",
   "nbconvert_exporter": "python",
   "pygments_lexer": "ipython3",
   "version": "3.10.8"
  }
 },
 "nbformat": 4,
 "nbformat_minor": 5
}
